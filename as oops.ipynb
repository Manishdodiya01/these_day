{
 "cells": [
  {
   "cell_type": "markdown",
   "id": "697d4f57-9fc6-46af-9e6d-100f529497d1",
   "metadata": {
    "jp-MarkdownHeadingCollapsed": true,
    "tags": []
   },
   "source": [
    "#         Q1. Explain Class and Object with respect to Object-Oriented Programming. Give a suitable example."
   ]
  },
  {
   "cell_type": "markdown",
   "id": "4e6c2410-fb4a-44c2-a923-82aeea0d0ac0",
   "metadata": {},
   "source": [
    "In object-oriented programming (OOP), a class is a blueprint or template for creating objects. It defines the properties and behaviors that objects of that class should have. An object, on the other hand, is an instance of a class. It is a tangible entity that exists in memory and can interact with other objects.\n",
    "\n",
    "To illustrate this concept, let's consider the example of a \"Car\" class. The Car class would define the common characteristics and behaviors that all cars have. It would include properties such as \"color,\" \"make,\" \"model,\" and \"speed,\" as well as methods or functions like \"accelerate,\" \"brake,\" and \"changeGear.\""
   ]
  },
  {
   "cell_type": "code",
   "execution_count": 10,
   "id": "3b8e661d-3af1-45f5-93b6-94e2ff580076",
   "metadata": {},
   "outputs": [],
   "source": [
    "class car :\n",
    "    \n",
    "    def __init__(self,color,make,model,):\n",
    "        self.color = color\n",
    "        self.make = make\n",
    "        self.model = model\n",
    "        self.speed = 0\n",
    "        \n",
    "        \n",
    "    def accelerate(self,acceleration):\n",
    "        self.speed += acceleration\n",
    "        \n",
    "    def brake(self,deceleration):\n",
    "        self.speed -+ deceleration\n",
    "        \n",
    "    def change_gear(self,gear):\n",
    "        pass\n",
    "        \n",
    "    "
   ]
  },
  {
   "cell_type": "code",
   "execution_count": 11,
   "id": "79258287-eef6-4715-8c30-307440a1fdae",
   "metadata": {},
   "outputs": [],
   "source": [
    "car1 = car(\"black\" , \"toyota\" , \"supra\")"
   ]
  },
  {
   "cell_type": "code",
   "execution_count": 12,
   "id": "4f5f6d53-5119-4617-b4d9-8cf8e6da33a9",
   "metadata": {},
   "outputs": [
    {
     "data": {
      "text/plain": [
       "'toyota'"
      ]
     },
     "execution_count": 12,
     "metadata": {},
     "output_type": "execute_result"
    }
   ],
   "source": [
    "car1.make"
   ]
  },
  {
   "cell_type": "code",
   "execution_count": 13,
   "id": "5bfa5b56-5591-4f29-b9d8-8c89d7e48143",
   "metadata": {},
   "outputs": [
    {
     "data": {
      "text/plain": [
       "'supra'"
      ]
     },
     "execution_count": 13,
     "metadata": {},
     "output_type": "execute_result"
    }
   ],
   "source": [
    "car1.model"
   ]
  },
  {
   "cell_type": "code",
   "execution_count": 19,
   "id": "af5ca41a-e141-435d-bade-ae6cc30f280c",
   "metadata": {},
   "outputs": [],
   "source": [
    "car1.accelerate(20)"
   ]
  },
  {
   "cell_type": "code",
   "execution_count": 20,
   "id": "8da42a1a-88b9-467c-83c8-4cc87c00ad47",
   "metadata": {},
   "outputs": [
    {
     "data": {
      "text/plain": [
       "60"
      ]
     },
     "execution_count": 20,
     "metadata": {},
     "output_type": "execute_result"
    }
   ],
   "source": [
    "car1.speed"
   ]
  },
  {
   "cell_type": "markdown",
   "id": "6d5654a8-8e46-48e9-bdaa-2d392843ba2e",
   "metadata": {
    "jp-MarkdownHeadingCollapsed": true,
    "tags": []
   },
   "source": [
    "#    Q2. Name the four pillars of OOPs."
   ]
  },
  {
   "cell_type": "markdown",
   "id": "61171609-9318-49d3-9b64-d6f3729a4586",
   "metadata": {},
   "source": [
    "The four pillars of object-oriented programming (OOP) are:\n",
    "\n",
    "1. Encapsulation: Encapsulation is the process of bundling data and methods (functions) together within a class. It involves hiding the internal implementation details of an object and providing a public interface to interact with the object. This helps in achieving data abstraction and data security.\n",
    "\n",
    "2. Inheritance: Inheritance allows the creation of new classes based on existing classes. It enables the reuse of code and promotes the concept of hierarchical classification. A class that is derived from another class inherits the properties and behaviors of the parent class. It facilitates code reusability and promotes the concept of \"is-a\" relationship.\n",
    "\n",
    "3. Polymorphism: Polymorphism refers to the ability of an object to take on many forms. It allows objects of different classes to be treated as objects of a common superclass. Polymorphism is achieved through method overriding and method overloading. Method overriding allows a subclass to provide a different implementation of a method that is already defined in its superclass. Method overloading allows multiple methods with the same name but different parameters to be defined in a class.\n",
    "\n",
    "4. Abstraction: Abstraction involves representing complex real-world entities as simplified models within the program. It focuses on capturing the essential features and behavior of an object while hiding unnecessary details. Abstraction provides a way to create abstract classes and interfaces, which can define common methods and properties that derived classes must implement. It helps in managing complexity and facilitates code maintainability.\n",
    "\n",
    "These four pillars provide a solid foundation for building modular, extensible, and maintainable software systems using the principles of object-oriented programming."
   ]
  },
  {
   "cell_type": "markdown",
   "id": "5c0d4ea2-e79c-49ba-be61-6941d28256ca",
   "metadata": {
    "jp-MarkdownHeadingCollapsed": true,
    "tags": []
   },
   "source": [
    "#    Q3. Explain why the __init__() function is used. Give a suitable example."
   ]
  },
  {
   "cell_type": "markdown",
   "id": "a6d4e6d8-1ad3-4fcf-a20a-f04b3d24f057",
   "metadata": {},
   "source": [
    "The __init__() function is a special method in Python classes that is used for initializing objects of a class. It is also known as the constructor method. When an object is created from a class, the __init__() method is automatically called, allowing you to set initial values for the object's attributes.\n",
    "\n",
    "Here's an example to illustrate the usage of the __init__() method:"
   ]
  },
  {
   "cell_type": "code",
   "execution_count": 27,
   "id": "2635cb0e-d30e-468b-8c3f-cda0acb3582c",
   "metadata": {},
   "outputs": [],
   "source": [
    "class car :\n",
    "    \n",
    "    def __init__(self,color,make,model):\n",
    "        self.color = color\n",
    "        self.make = make\n",
    "        self.model = model\n",
    "        \n",
    "    def output_data(self):\n",
    "        return self.color , self.make , self.model"
   ]
  },
  {
   "cell_type": "code",
   "execution_count": 28,
   "id": "4a88119a-d3f4-4984-9b9d-836ffb3cd8cd",
   "metadata": {},
   "outputs": [],
   "source": [
    "output = car(\"red\" , \"tata\" , \"neno\")"
   ]
  },
  {
   "cell_type": "code",
   "execution_count": 30,
   "id": "963ccc18-0c80-44a5-abc0-18daf651ef08",
   "metadata": {},
   "outputs": [
    {
     "data": {
      "text/plain": [
       "('red', 'tata', 'neno')"
      ]
     },
     "execution_count": 30,
     "metadata": {},
     "output_type": "execute_result"
    }
   ],
   "source": [
    "output.output_data()"
   ]
  },
  {
   "cell_type": "markdown",
   "id": "d2f385ac-62c4-4216-9e63-d1b82654d58d",
   "metadata": {
    "jp-MarkdownHeadingCollapsed": true,
    "tags": []
   },
   "source": [
    "#    Q4. Why self is used in OOPs?"
   ]
  },
  {
   "cell_type": "markdown",
   "id": "01a4c2a0-4283-41d6-a23d-58d886b56c81",
   "metadata": {},
   "source": [
    "In object-oriented programming (OOP), the self parameter is used to refer to the instance of a class within its methods. It is a convention in Python to name this parameter self, although you can use any valid variable name in its place.\n",
    "\n",
    "The self parameter allows access to the attributes and methods of the current object. When a method is called on an object, the self parameter implicitly passes the reference to that object. It allows the method to operate on the specific instance of the class to which it belongs."
   ]
  },
  {
   "cell_type": "markdown",
   "id": "f86a11b5-61ad-4acc-8381-0a1418328206",
   "metadata": {
    "jp-MarkdownHeadingCollapsed": true,
    "tags": []
   },
   "source": [
    "#   Q5. What is inheritance? Give an example for each type of inheritance."
   ]
  },
  {
   "cell_type": "markdown",
   "id": "28500291-13d3-4f2f-a15b-696ac7e3cf2e",
   "metadata": {},
   "source": [
    "Inheritance is a fundamental concept in object-oriented programming (OOP) that allows the creation of new classes based on existing classes. Inheritance enables code reuse and promotes the concept of hierarchical classification, where classes are organized in a parent-child relationship.\n",
    "\n",
    "Inheritance allows the child class to inherit the properties and behaviors (attributes and methods) of the parent class, thus reducing code duplication and promoting code reuse. The child class can also add its own unique properties and behaviors or override the ones inherited from the parent class."
   ]
  },
  {
   "cell_type": "code",
   "execution_count": 31,
   "id": "cff95f9d-2e7d-4997-92c3-7b85f42bbc7c",
   "metadata": {},
   "outputs": [],
   "source": [
    "class vehicle:\n",
    "    def __init__(self,color):\n",
    "        self.color = color\n",
    "        \n",
    "    def get_color(self):\n",
    "        return self.color\n",
    "    \n",
    "class car(vehicle):\n",
    "    def start(self):\n",
    "        print(\"car is starting...\")"
   ]
  },
  {
   "cell_type": "code",
   "execution_count": 32,
   "id": "26334f3c-63c8-4b17-9122-1b5d43e279aa",
   "metadata": {},
   "outputs": [],
   "source": [
    "car = car(\"red\")"
   ]
  },
  {
   "cell_type": "code",
   "execution_count": 34,
   "id": "44de495f-6945-4a16-b3f1-57d3b430a826",
   "metadata": {},
   "outputs": [
    {
     "data": {
      "text/plain": [
       "'red'"
      ]
     },
     "execution_count": 34,
     "metadata": {},
     "output_type": "execute_result"
    }
   ],
   "source": [
    "car.get_color()"
   ]
  },
  {
   "cell_type": "code",
   "execution_count": 35,
   "id": "6ba47fcf-ac75-4bcf-9ad3-3793dfb43ab8",
   "metadata": {},
   "outputs": [
    {
     "name": "stdout",
     "output_type": "stream",
     "text": [
      "car is starting...\n"
     ]
    }
   ],
   "source": [
    "car.start()"
   ]
  },
  {
   "cell_type": "markdown",
   "id": "50a573d7-6a2b-4faf-ab81-163c9c84afe9",
   "metadata": {
    "jp-MarkdownHeadingCollapsed": true,
    "tags": []
   },
   "source": [
    "# multiple heritance"
   ]
  },
  {
   "cell_type": "code",
   "execution_count": 36,
   "id": "63f772bd-6fa6-44b7-a0cd-e3f133f2c50f",
   "metadata": {},
   "outputs": [],
   "source": [
    "class animal:\n",
    "    def __init__(self,name):\n",
    "        self.name = name\n",
    "        \n",
    "    def eat(self):\n",
    "        print(\"animal is eating...\")\n",
    "        \n",
    "class flyer:\n",
    "    def fly(self):\n",
    "        print(\"parrot is flying...\")\n",
    "        \n",
    "class bird(animal,flyer):\n",
    "    pass"
   ]
  },
  {
   "cell_type": "code",
   "execution_count": 37,
   "id": "bcb3850f-db14-41d2-ac5c-6271f04d1cf5",
   "metadata": {},
   "outputs": [],
   "source": [
    "object_ = bird(\"sparrow\")"
   ]
  },
  {
   "cell_type": "code",
   "execution_count": 38,
   "id": "824b5c95-5a83-4477-bb9b-fe5105b1362d",
   "metadata": {},
   "outputs": [
    {
     "data": {
      "text/plain": [
       "'sparrow'"
      ]
     },
     "execution_count": 38,
     "metadata": {},
     "output_type": "execute_result"
    }
   ],
   "source": [
    "object_.name"
   ]
  },
  {
   "cell_type": "code",
   "execution_count": 40,
   "id": "90ce897d-3e36-4647-bc2a-5e74faf4fa8a",
   "metadata": {},
   "outputs": [
    {
     "name": "stdout",
     "output_type": "stream",
     "text": [
      "parrot is flying...\n"
     ]
    }
   ],
   "source": [
    "object_.fly()"
   ]
  },
  {
   "cell_type": "code",
   "execution_count": 42,
   "id": "e78ae135-26a3-4075-b08a-866390e453eb",
   "metadata": {},
   "outputs": [
    {
     "name": "stdout",
     "output_type": "stream",
     "text": [
      "animal is eating...\n"
     ]
    }
   ],
   "source": [
    "object_.eat()"
   ]
  },
  {
   "cell_type": "markdown",
   "id": "0eeb6ddb-e5d6-4d93-8901-f0762da99dfb",
   "metadata": {
    "jp-MarkdownHeadingCollapsed": true,
    "tags": []
   },
   "source": [
    "# Multilevel Inheritance:"
   ]
  },
  {
   "cell_type": "code",
   "execution_count": 55,
   "id": "a3f4b5e3-cf45-44c0-a80b-ca423778d9a9",
   "metadata": {},
   "outputs": [],
   "source": [
    "class animal:\n",
    "    def eat(self):\n",
    "        print(\"animal is eating...\")\n",
    "        \n",
    "class lion(animal):\n",
    "    def sleep(self):\n",
    "        print(\"lion is sleeping...\")\n",
    "        \n",
    "class dog(lion):\n",
    "    def bark(self):\n",
    "        print(\"dog is barking...\")"
   ]
  },
  {
   "cell_type": "code",
   "execution_count": 56,
   "id": "48df61fe-f1eb-4900-b121-c19ce726fa27",
   "metadata": {},
   "outputs": [],
   "source": [
    "object__ = dog()"
   ]
  },
  {
   "cell_type": "code",
   "execution_count": 57,
   "id": "e6c5ec0b-2253-4355-aa58-ae33f8d7835d",
   "metadata": {},
   "outputs": [
    {
     "name": "stdout",
     "output_type": "stream",
     "text": [
      "dog is barking...\n"
     ]
    }
   ],
   "source": [
    "object__.bark()"
   ]
  },
  {
   "cell_type": "code",
   "execution_count": 58,
   "id": "649637a0-4e76-4d3f-860a-8cc80e232b5e",
   "metadata": {},
   "outputs": [
    {
     "name": "stdout",
     "output_type": "stream",
     "text": [
      "animal is eating...\n"
     ]
    }
   ],
   "source": [
    "object__.eat()"
   ]
  },
  {
   "cell_type": "code",
   "execution_count": 59,
   "id": "900a94c4-b69a-4245-b29f-a70bb1c58692",
   "metadata": {},
   "outputs": [
    {
     "name": "stdout",
     "output_type": "stream",
     "text": [
      "lion is sleeping...\n"
     ]
    }
   ],
   "source": [
    "object__.sleep()"
   ]
  },
  {
   "cell_type": "code",
   "execution_count": null,
   "id": "e350c6dd-ed0f-4a67-84d6-dad47fb2f41a",
   "metadata": {},
   "outputs": [],
   "source": []
  }
 ],
 "metadata": {
  "kernelspec": {
   "display_name": "Python 3 (ipykernel)",
   "language": "python",
   "name": "python3"
  },
  "language_info": {
   "codemirror_mode": {
    "name": "ipython",
    "version": 3
   },
   "file_extension": ".py",
   "mimetype": "text/x-python",
   "name": "python",
   "nbconvert_exporter": "python",
   "pygments_lexer": "ipython3",
   "version": "3.10.8"
  }
 },
 "nbformat": 4,
 "nbformat_minor": 5
}
